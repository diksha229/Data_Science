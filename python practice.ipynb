{
 "cells": [
  {
   "cell_type": "markdown",
   "id": "5be9bb3c",
   "metadata": {},
   "source": [
    "Arthematic Operator "
   ]
  },
  {
   "cell_type": "code",
   "execution_count": null,
   "id": "9bf1c051",
   "metadata": {},
   "outputs": [],
   "source": [
    "# add (+)\n",
    "# minus (-)\n",
    "# division (/)\n",
    "# modulus (%) gives the remainder when divide the numbers\n",
    "# Exponentiation (**) calculate square root (2⁴)\n",
    "# floor division (//) rounding the result down to the nearest whole number\n"
   ]
  },
  {
   "cell_type": "code",
   "execution_count": 11,
   "id": "b90be6dd",
   "metadata": {},
   "outputs": [
    {
     "name": "stdout",
     "output_type": "stream",
     "text": [
      "['apple', 'banana', [2.3]]\n"
     ]
    }
   ],
   "source": [
    "# change the list items\n",
    "thislist = [\"apple\", \"banana\", \"cherry\"]\n",
    "thislist[2] = [2.3]\n",
    "print(thislist)"
   ]
  },
  {
   "cell_type": "code",
   "execution_count": 18,
   "id": "6ab4caed",
   "metadata": {},
   "outputs": [
    {
     "name": "stdout",
     "output_type": "stream",
     "text": [
      "['diksha', 'sharma']\n"
     ]
    }
   ],
   "source": [
    "thislist[1:3] = 'diksha','sharma'\n",
    "print(thislist)\n"
   ]
  },
  {
   "cell_type": "code",
   "execution_count": 19,
   "id": "4693c8de",
   "metadata": {},
   "outputs": [
    {
     "name": "stdout",
     "output_type": "stream",
     "text": [
      "['diksha', 'sharma', 10]\n"
     ]
    }
   ],
   "source": [
    "thislist.append(10)\n",
    "print(thislist)"
   ]
  },
  {
   "cell_type": "code",
   "execution_count": null,
   "id": "2072bddb",
   "metadata": {},
   "outputs": [
    {
     "name": "stdout",
     "output_type": "stream",
     "text": [
      "['diksha', 'sharma', 20, 10, 2]\n"
     ]
    }
   ],
   "source": [
    "# first give the index no than value\n",
    "thislist.insert(2,20)\n",
    "print(thislist)"
   ]
  },
  {
   "cell_type": "code",
   "execution_count": 28,
   "id": "3ca63c7e",
   "metadata": {},
   "outputs": [
    {
     "name": "stdout",
     "output_type": "stream",
     "text": [
      "['mango', 'pineapple', 'papaya', 'apple', 'banana', 'cherry']\n"
     ]
    }
   ],
   "source": [
    "thislist = [\"apple\", \"banana\", \"cherry\"]\n",
    "tropical = [\"mango\", \"pineapple\", \"papaya\"]\n",
    "tropical.extend(thislist)\n",
    "print(tropical)"
   ]
  },
  {
   "cell_type": "code",
   "execution_count": 29,
   "id": "73e34a02",
   "metadata": {},
   "outputs": [
    {
     "name": "stdout",
     "output_type": "stream",
     "text": [
      "['apple', 'banana', 'cherry', 'kiwi', 'orange']\n"
     ]
    }
   ],
   "source": [
    "list = [\"apple\", \"banana\", \"cherry\"]\n",
    "tup = (\"kiwi\", \"orange\")\n",
    "list.extend(tup)\n",
    "print(list)"
   ]
  },
  {
   "cell_type": "code",
   "execution_count": 30,
   "id": "a97f7398",
   "metadata": {},
   "outputs": [
    {
     "name": "stdout",
     "output_type": "stream",
     "text": [
      "apple\n"
     ]
    }
   ],
   "source": [
    "mylist = ['apple', 'banana', 'cherry']\n",
    "mylist.insert(0, 'orange')\n",
    "print(mylist[1])"
   ]
  },
  {
   "cell_type": "code",
   "execution_count": 32,
   "id": "d5be08ba",
   "metadata": {},
   "outputs": [
    {
     "name": "stdout",
     "output_type": "stream",
     "text": [
      "['banana', 'cherry']\n"
     ]
    }
   ],
   "source": [
    "list = [\"apple\", \"banana\", \"cherry\"]\n",
    "list.remove('apple')\n",
    "print(list)"
   ]
  },
  {
   "cell_type": "code",
   "execution_count": 34,
   "id": "8e553da1",
   "metadata": {},
   "outputs": [
    {
     "name": "stdout",
     "output_type": "stream",
     "text": [
      "['banana']\n"
     ]
    }
   ],
   "source": [
    "list.remove('cherry')\n",
    "print(list)"
   ]
  },
  {
   "cell_type": "code",
   "execution_count": 50,
   "id": "5c65573c",
   "metadata": {},
   "outputs": [
    {
     "name": "stdout",
     "output_type": "stream",
     "text": [
      "['apple', 'banana', 'cherry', 'zebra']\n"
     ]
    }
   ],
   "source": [
    "# by default it will remove the last index value we can give the condition as well\n",
    "\n",
    "list.pop(3)\n",
    "print(list)"
   ]
  },
  {
   "cell_type": "code",
   "execution_count": 51,
   "id": "ad9f4b87",
   "metadata": {},
   "outputs": [
    {
     "name": "stdout",
     "output_type": "stream",
     "text": [
      "['apple', 'banana', 'cherry', 'zebra', 'zebra']\n"
     ]
    }
   ],
   "source": [
    "list.append(\"zebra\")\n",
    "print(list)"
   ]
  },
  {
   "cell_type": "code",
   "execution_count": 52,
   "id": "fda29806",
   "metadata": {},
   "outputs": [
    {
     "name": "stdout",
     "output_type": "stream",
     "text": [
      "['apple', 'banana', 'cherry', 'zebra', 'zebra']\n"
     ]
    }
   ],
   "source": [
    "# sorting algorithm \n",
    "list.sort()\n",
    "print(list)"
   ]
  },
  {
   "cell_type": "code",
   "execution_count": 8,
   "id": "84329994",
   "metadata": {},
   "outputs": [
    {
     "name": "stdout",
     "output_type": "stream",
     "text": [
      "cherry\n"
     ]
    }
   ],
   "source": [
    "list = [\"apple\", \"banana\", \"cherry\"]\n",
    "print(list[1+1])"
   ]
  },
  {
   "cell_type": "code",
   "execution_count": 11,
   "id": "26c6f38f",
   "metadata": {},
   "outputs": [
    {
     "name": "stdout",
     "output_type": "stream",
     "text": [
      "['banana', 'cherry', 'apple']\n"
     ]
    }
   ],
   "source": [
    "list = [\"apple\", \"banana\", \"cherry\",'apple']\n",
    "list.remove('apple')\n",
    "print(list)"
   ]
  },
  {
   "cell_type": "code",
   "execution_count": 4,
   "id": "b9973fa0",
   "metadata": {},
   "outputs": [
    {
     "name": "stdout",
     "output_type": "stream",
     "text": [
      "1 squared 1\n",
      "2 squared 4\n",
      "3 squared 9\n",
      "4 squared 16\n",
      "5 squared 25\n"
     ]
    }
   ],
   "source": [
    "for i in range(1,6):\n",
    "  print(i,\"squared\",i*i)"
   ]
  },
  {
   "cell_type": "code",
   "execution_count": 8,
   "id": "9c64a964",
   "metadata": {},
   "outputs": [
    {
     "name": "stdout",
     "output_type": "stream",
     "text": [
      "top scores [94, 89, 72]\n"
     ]
    }
   ],
   "source": [
    "marks = [45, 89, 72, 33, 94]\n",
    "marks.sort(reverse=True)\n",
    "print(\"top scores\",marks[:3])"
   ]
  }
 ],
 "metadata": {
  "kernelspec": {
   "display_name": "base",
   "language": "python",
   "name": "python3"
  },
  "language_info": {
   "codemirror_mode": {
    "name": "ipython",
    "version": 3
   },
   "file_extension": ".py",
   "mimetype": "text/x-python",
   "name": "python",
   "nbconvert_exporter": "python",
   "pygments_lexer": "ipython3",
   "version": "3.12.7"
  }
 },
 "nbformat": 4,
 "nbformat_minor": 5
}
