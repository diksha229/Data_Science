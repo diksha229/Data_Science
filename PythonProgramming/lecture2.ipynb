{
 "cells": [
  {
   "cell_type": "code",
   "execution_count": 6,
   "id": "4ea3ad74",
   "metadata": {},
   "outputs": [],
   "source": [
    "str = \"hello world, welcome to the world of python ptogramming\"\n"
   ]
  },
  {
   "cell_type": "code",
   "execution_count": 7,
   "id": "233ebe2d",
   "metadata": {},
   "outputs": [
    {
     "name": "stdout",
     "output_type": "stream",
     "text": [
      "o\n",
      "r\n",
      "m\n"
     ]
    }
   ],
   "source": [
    "# concept of indexing \n",
    "# str of 2 is\n",
    "print(str[4])\n",
    "print(str[8])\n",
    "print(str[-4])"
   ]
  },
  {
   "cell_type": "code",
   "execution_count": null,
   "id": "8e387236",
   "metadata": {},
   "outputs": [
    {
     "name": "stdout",
     "output_type": "stream",
     "text": [
      "hello world, welcome to the world of python ptogramming\n",
      "hell\n",
      "am\n",
      "hlowrd ecm otewrdo yhnpormig\n",
      "hello world, welcome to the world of python ptogramming\n",
      "gnimmargotp nohtyp fo dlrow eht ot emoclew ,dlrow olleh\n"
     ]
    }
   ],
   "source": [
    "# concept of slicing\n",
    "'''syntax \n",
    "str[start:stop:step]'''\n",
    "\n",
    "print (str[:])\n",
    "print (str[:4])\n",
    "print(str[-6:-4])\n",
    "print(str[::2])\n",
    "print(str[::])\n",
    "print(str[::-1])\n",
    "# check whether the entered the name is palentrom or not Q\n",
    "\n"
   ]
  },
  {
   "cell_type": "code",
   "execution_count": null,
   "id": "7f5015c6",
   "metadata": {},
   "outputs": [],
   "source": [
    "print (type(str))"
   ]
  },
  {
   "cell_type": "code",
   "execution_count": null,
   "id": "277907f5",
   "metadata": {},
   "outputs": [],
   "source": [
    "s = \"india is greate country\"\n"
   ]
  },
  {
   "cell_type": "code",
   "execution_count": null,
   "id": "33109f2b",
   "metadata": {},
   "outputs": [],
   "source": []
  },
  {
   "cell_type": "code",
   "execution_count": 9,
   "id": "cbce6946",
   "metadata": {},
   "outputs": [
    {
     "name": "stdout",
     "output_type": "stream",
     "text": [
      "<class 'list'>\n",
      "[1]\n",
      "[1, 2]\n"
     ]
    }
   ],
   "source": [
    "# list is the collection of differnt type of data type or all types in python \n",
    "#list is the data structure of python (mutalble in nature)\n",
    "\n",
    "lst = [] # blank list\n",
    "print(type(lst))\n",
    "lst.append (1) #function :method \n",
    "print(lst)\n",
    "lst.append(2)\n",
    "print(lst)"
   ]
  },
  {
   "cell_type": "code",
   "execution_count": null,
   "id": "acd208b4",
   "metadata": {},
   "outputs": [],
   "source": [
    "# . operator use for calling a funcon \n",
    "# upper function \n",
    "#string class\n",
    "#upper() method \n",
    "#if i define any function it is called method \n",
    "string = 'hello world'\n",
    "print(string.upper())\n",
    "print(string.lower())\n",
    "print(string.len())\n",
    "\n"
   ]
  }
 ],
 "metadata": {
  "kernelspec": {
   "display_name": "base",
   "language": "python",
   "name": "python3"
  },
  "language_info": {
   "codemirror_mode": {
    "name": "ipython",
    "version": 3
   },
   "file_extension": ".py",
   "mimetype": "text/x-python",
   "name": "python",
   "nbconvert_exporter": "python",
   "pygments_lexer": "ipython3",
   "version": "3.12.7"
  }
 },
 "nbformat": 4,
 "nbformat_minor": 5
}
