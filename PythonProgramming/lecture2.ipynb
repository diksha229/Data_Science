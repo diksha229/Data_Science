{
 "cells": [
  {
   "cell_type": "code",
   "execution_count": 1,
   "id": "4ea3ad74",
   "metadata": {},
   "outputs": [
    {
     "name": "stdout",
     "output_type": "stream",
     "text": [
      "hello world, welcome to the world of python programming\n"
     ]
    }
   ],
   "source": [
    "str = \"hello world, welcome to the world of python programming\"\n",
    "print(str)\n"
   ]
  },
  {
   "cell_type": "code",
   "execution_count": 2,
   "id": "233ebe2d",
   "metadata": {},
   "outputs": [
    {
     "name": "stdout",
     "output_type": "stream",
     "text": [
      "o\n",
      "r\n",
      "m\n"
     ]
    }
   ],
   "source": [
    "# concept of indexing \n",
    "# str of 2 is\n",
    "print(str[4])\n",
    "print(str[8])\n",
    "print(str[-4])"
   ]
  },
  {
   "cell_type": "code",
   "execution_count": null,
   "id": "8e387236",
   "metadata": {},
   "outputs": [
    {
     "name": "stdout",
     "output_type": "stream",
     "text": [
      "hello world, welcome to the world of python programming\n",
      "hell\n",
      "am\n",
      "hlowrd ecm otewrdo yhnpormig\n",
      "hello world, welcome to the world of python programming\n",
      "gnimmargorp nohtyp fo dlrow eht ot emoclew ,dlrow olleh\n"
     ]
    }
   ],
   "source": [
    "# concept of slicing\n",
    "'''syntax \n",
    "str[start:stop:step]'''\n",
    "\n",
    "print (str[:])\n",
    "print (str[:4])\n",
    "print(str[-6:-4])\n",
    "print(str[::2])\n",
    "print(str[::])\n",
    "print(str[::-1])\n",
    "# check whether the entered the name is palentrom or not Q\n",
    "\n"
   ]
  },
  {
   "cell_type": "code",
   "execution_count": 3,
   "id": "7f5015c6",
   "metadata": {},
   "outputs": [
    {
     "name": "stdout",
     "output_type": "stream",
     "text": [
      "<class 'str'>\n",
      "<class 'type'>\n",
      "<class 'type'>\n"
     ]
    }
   ],
   "source": [
    "print (type(str))\n",
    "print (type(int))\n",
    "print(type(float))"
   ]
  },
  {
   "cell_type": "code",
   "execution_count": null,
   "id": "acd208b4",
   "metadata": {},
   "outputs": [
    {
     "name": "stdout",
     "output_type": "stream",
     "text": [
      "HELLO WORLD\n",
      "hello world\n",
      "11\n"
     ]
    }
   ],
   "source": [
    "''' * (.) operator use for calling a function \n",
    "* upper function\n",
    "* string class\n",
    "* upper() method \n",
    "* string is a class and if it is define in function it is called as method \n",
    " '''\n",
    "\n",
    "string = 'hello world'\n",
    "print(string.upper())\n",
    "print(string.lower())\n",
    "# len () is a built-in function of python (works with lst,str,dict)\n",
    "print(len(string))\n",
    "\n",
    "\n"
   ]
  }
 ],
 "metadata": {
  "kernelspec": {
   "display_name": "base",
   "language": "python",
   "name": "python3"
  },
  "language_info": {
   "codemirror_mode": {
    "name": "ipython",
    "version": 3
   },
   "file_extension": ".py",
   "mimetype": "text/x-python",
   "name": "python",
   "nbconvert_exporter": "python",
   "pygments_lexer": "ipython3",
   "version": "3.12.7"
  }
 },
 "nbformat": 4,
 "nbformat_minor": 5
}
