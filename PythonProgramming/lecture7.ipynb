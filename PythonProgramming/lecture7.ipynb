{
 "cells": [
  {
   "cell_type": "code",
   "execution_count": null,
   "id": "48e88d76",
   "metadata": {},
   "outputs": [],
   "source": [
    "# FUNCTIONS IN PYTHON \n",
    "#function makes the code reusable and custom function"
   ]
  },
  {
   "cell_type": "code",
   "execution_count": null,
   "id": "7b9a7d64",
   "metadata": {},
   "outputs": [
    {
     "name": "stdout",
     "output_type": "stream",
     "text": [
      "5\n",
      "15\n",
      "15\n"
     ]
    },
    {
     "data": {
      "text/plain": [
       "15"
      ]
     },
     "execution_count": 66,
     "metadata": {},
     "output_type": "execute_result"
    }
   ],
   "source": [
    "# function defination  is used to reduce the reduantancy \n",
    "\n",
    "def sum(a,b): # a,b are the parameters\n",
    "    \n",
    "# performing some operation \n",
    "    sum = a + b \n",
    "    print(sum)\n",
    "    return sum # returns the output\n",
    "\n",
    "sum(2,3) # calling a function ; arguments \n",
    "\n",
    "a = 10\n",
    "b = 5\n",
    "print(a+b)\n",
    "sum(10,5)\n",
    "\n",
    "# def sum(): # we can keep the () empty as well"
   ]
  },
  {
   "cell_type": "code",
   "execution_count": 19,
   "id": "641b2bdd",
   "metadata": {},
   "outputs": [
    {
     "name": "stdout",
     "output_type": "stream",
     "text": [
      "15\n",
      "15\n",
      "10\n",
      "10\n",
      "25\n",
      "25\n"
     ]
    },
    {
     "data": {
      "text/plain": [
       "25"
      ]
     },
     "execution_count": 19,
     "metadata": {},
     "output_type": "execute_result"
    }
   ],
   "source": [
    "# reducing the repitative coding by writing the def function \n",
    "a = 10\n",
    "b = 5\n",
    "print(a+b)\n",
    "\n",
    "# passing the argument in sum() function\n",
    "sum(10,5)\n",
    "\n",
    "# more code \n",
    "b = 5\n",
    "c = 5\n",
    "print(b + c)\n",
    "\n",
    "# passing the argument in sum() function\n",
    "sum(5,5)\n",
    "\n",
    "# more code \n",
    "q = 15 # not neccsary to write the same variable \n",
    "r = 10 \n",
    "print(q+r)\n",
    "\n",
    "# passing the argument in sum() function\n",
    "sum(15,10)"
   ]
  },
  {
   "cell_type": "code",
   "execution_count": 25,
   "id": "efe2b316",
   "metadata": {},
   "outputs": [
    {
     "data": {
      "text/plain": [
       "5.333333333333333"
      ]
     },
     "execution_count": 25,
     "metadata": {},
     "output_type": "execute_result"
    }
   ],
   "source": [
    "# avg of 3 numbers \n",
    "def avg(a,b,c):\n",
    "    sum = a + b + c \n",
    "    avg = sum / 3\n",
    "    return avg\n",
    "    \n",
    "avg(3,8,5)\n",
    "    "
   ]
  },
  {
   "cell_type": "code",
   "execution_count": null,
   "id": "b4c63fc2",
   "metadata": {},
   "outputs": [
    {
     "name": "stdout",
     "output_type": "stream",
     "text": [
      "dikshasharma is 21 year old \n"
     ]
    }
   ],
   "source": [
    "# builtin function\n",
    "# end = \" \" will give the sapce and give ouput on same line \n",
    "#  \n",
    "print(\"dikshasharma\", end = \" \") #sep = \" \"\n",
    "\n",
    "print(\"is 21 year old \") # end = \"\\n\"\n"
   ]
  },
  {
   "cell_type": "code",
   "execution_count": 30,
   "id": "e19cd05d",
   "metadata": {},
   "outputs": [
    {
     "data": {
      "text/plain": [
       "8"
      ]
     },
     "execution_count": 30,
     "metadata": {},
     "output_type": "execute_result"
    }
   ],
   "source": [
    "# deafult parameters \n",
    "# assigning a default value to parameter, ehich is used when no argument is passed\n",
    "def cal_mul(a=2,b=4):\n",
    "    sum = a * b \n",
    "    return sum \n",
    "cal_mul() # not passing the arguments still gives the output "
   ]
  },
  {
   "cell_type": "code",
   "execution_count": null,
   "id": "da0db27f",
   "metadata": {},
   "outputs": [
    {
     "name": "stdout",
     "output_type": "stream",
     "text": [
      "4\n",
      "3\n"
     ]
    }
   ],
   "source": [
    " # to print the length of a list. (list is the parameter)\n",
    "cities = [ 'mumbai', 'delhi','chnnai','kolkata']\n",
    "heroes = ['salman','sarukh','aditya']\n",
    "def list(c,h):\n",
    "    print(len(c))\n",
    "    print(len(h))\n",
    "    \n",
    "list(cities,heroes) # print the length of list."
   ]
  },
  {
   "cell_type": "code",
   "execution_count": 42,
   "id": "08d6b0b1",
   "metadata": {},
   "outputs": [
    {
     "name": "stdout",
     "output_type": "stream",
     "text": [
      "apple mango banana "
     ]
    }
   ],
   "source": [
    "# to print the elements of a list in a single line. (list is the parameter)\n",
    "list = ['apple','mango','banana']\n",
    "def print_ele(a):\n",
    "    for item in a:\n",
    "        print(item , end=\" \")\n",
    "print_ele(list)\n",
    "    "
   ]
  },
  {
   "cell_type": "code",
   "execution_count": 49,
   "id": "c6800368",
   "metadata": {},
   "outputs": [
    {
     "name": "stdout",
     "output_type": "stream",
     "text": [
      "the 1 usd value is  83 \n"
     ]
    }
   ],
   "source": [
    "inr = 83\n",
    "def conveter(usd_value):\n",
    "    global inr\n",
    "    inr_value = usd_value * inr\n",
    "    print(f\"the {usd_value} usd value is  {inr_value} \")\n",
    "conveter(1)"
   ]
  },
  {
   "cell_type": "code",
   "execution_count": 65,
   "id": "53ece757",
   "metadata": {},
   "outputs": [
    {
     "name": "stdout",
     "output_type": "stream",
     "text": [
      "5\n",
      "4\n",
      "3\n",
      "2\n",
      "1\n"
     ]
    }
   ],
   "source": [
    "# recursion : loops and re are inter-related\n",
    "# when a function calls itself repeatedly \n",
    "def show(n):\n",
    "    if n==0:\n",
    "        return\n",
    "    print(n)\n",
    "    show(n-1)\n",
    "    \n",
    "    \n",
    "show(5)"
   ]
  },
  {
   "cell_type": "code",
   "execution_count": null,
   "id": "bc2e7dff",
   "metadata": {},
   "outputs": [],
   "source": []
  }
 ],
 "metadata": {
  "kernelspec": {
   "display_name": "base",
   "language": "python",
   "name": "python3"
  },
  "language_info": {
   "codemirror_mode": {
    "name": "ipython",
    "version": 3
   },
   "file_extension": ".py",
   "mimetype": "text/x-python",
   "name": "python",
   "nbconvert_exporter": "python",
   "pygments_lexer": "ipython3",
   "version": "3.12.7"
  }
 },
 "nbformat": 4,
 "nbformat_minor": 5
}
