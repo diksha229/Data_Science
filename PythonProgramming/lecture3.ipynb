{
 "cells": [
  {
   "cell_type": "code",
   "execution_count": null,
   "id": "02e29591",
   "metadata": {},
   "outputs": [
    {
     "name": "stdout",
     "output_type": "stream",
     "text": [
      "<class 'list'>\n",
      "[1]\n",
      "[1, 2]\n"
     ]
    }
   ],
   "source": [
    "# list is the collection of differnt  data type in python arranged in squentail manner . \n",
    "#list is the data structure of python (mutalble in nature) and cu\n",
    "'''\n",
    "if any function defined inside a class then such function is called 'method'\n",
    "if str is class then \n",
    "'''\n",
    "# appen d always add in last \n",
    "lst = [] # blank list\n",
    "print(type(lst))\n",
    "lst.append (1) #function : method \n",
    "print(lst)\n",
    "lst.append(2)\n",
    "print(lst)"
   ]
  },
  {
   "cell_type": "code",
   "execution_count": 10,
   "id": "55626ade",
   "metadata": {},
   "outputs": [],
   "source": [
    "# clear() function will clear all the datatype mentioned inside a list \n",
    "lst.clear()\n"
   ]
  },
  {
   "cell_type": "code",
   "execution_count": 12,
   "id": "21408a6f",
   "metadata": {},
   "outputs": [],
   "source": [
    "# append()function will add the value at the last index of list\n",
    "lst.insert(1,10) "
   ]
  },
  {
   "cell_type": "code",
   "execution_count": 13,
   "id": "135cf7cd",
   "metadata": {},
   "outputs": [],
   "source": [
    "# insert() function will add the value at the specific index\n",
    "lst.append(20)"
   ]
  },
  {
   "cell_type": "code",
   "execution_count": 14,
   "id": "2408fb00",
   "metadata": {},
   "outputs": [
    {
     "data": {
      "text/plain": [
       "[10, 20]"
      ]
     },
     "execution_count": 14,
     "metadata": {},
     "output_type": "execute_result"
    }
   ],
   "source": [
    "lst"
   ]
  },
  {
   "cell_type": "code",
   "execution_count": 15,
   "id": "b31f9f81",
   "metadata": {},
   "outputs": [
    {
     "data": {
      "text/plain": [
       "30"
      ]
     },
     "execution_count": 15,
     "metadata": {},
     "output_type": "execute_result"
    }
   ],
   "source": [
    "# we cant add values so we have to use numpy\n",
    "import numpy as np\n",
    "a = np.array(lst)\n",
    "a.sum()"
   ]
  },
  {
   "cell_type": "code",
   "execution_count": 16,
   "id": "5eb539da",
   "metadata": {},
   "outputs": [
    {
     "data": {
      "text/plain": [
       "1"
      ]
     },
     "execution_count": 16,
     "metadata": {},
     "output_type": "execute_result"
    }
   ],
   "source": [
    "# COUNT() will count the duplicate value\n",
    "lst.count(20)\n"
   ]
  },
  {
   "cell_type": "code",
   "execution_count": null,
   "id": "18e5ab2b",
   "metadata": {},
   "outputs": [
    {
     "data": {
      "text/plain": [
       "1"
      ]
     },
     "execution_count": 17,
     "metadata": {},
     "output_type": "execute_result"
    }
   ],
   "source": [
    "# searching alogorithm \n",
    "lst.index(20)"
   ]
  },
  {
   "cell_type": "code",
   "execution_count": 23,
   "id": "7dce36a4",
   "metadata": {},
   "outputs": [
    {
     "name": "stdout",
     "output_type": "stream",
     "text": [
      "[10, 20, 30, 40, 60, 100]\n"
     ]
    }
   ],
   "source": [
    "#sorting algorithm \n",
    "m =[100,20,10,30,40,60]\n",
    "m.sort()\n",
    "print(m)"
   ]
  },
  {
   "cell_type": "code",
   "execution_count": 25,
   "id": "0780e91a",
   "metadata": {},
   "outputs": [
    {
     "data": {
      "text/plain": [
       "[10, 20, 30, 40, 60, 100]"
      ]
     },
     "execution_count": 25,
     "metadata": {},
     "output_type": "execute_result"
    }
   ],
   "source": [
    "# copy() a function it defined in variable instance = \n",
    "\n",
    "n= m.copy()\n",
    "n"
   ]
  },
  {
   "cell_type": "code",
   "execution_count": 26,
   "id": "ce72b664",
   "metadata": {},
   "outputs": [
    {
     "data": {
      "text/plain": [
       "[10, 20, 30, 40, 60, 100, 20, 30, 40, 50]"
      ]
     },
     "execution_count": 26,
     "metadata": {},
     "output_type": "execute_result"
    }
   ],
   "source": [
    "n.extend([20,30,40,50])\n",
    "n"
   ]
  },
  {
   "cell_type": "code",
   "execution_count": 27,
   "id": "074ec5a9",
   "metadata": {},
   "outputs": [
    {
     "data": {
      "text/plain": [
       "100"
      ]
     },
     "execution_count": 27,
     "metadata": {},
     "output_type": "execute_result"
    }
   ],
   "source": [
    "# pop() will reomve the last value present inside a list\n",
    "m.pop()"
   ]
  },
  {
   "cell_type": "code",
   "execution_count": null,
   "id": "a5dc9ca6",
   "metadata": {},
   "outputs": [
    {
     "name": "stdout",
     "output_type": "stream",
     "text": [
      "[0, 10, 20, 20]\n"
     ]
    }
   ],
   "source": [
    "# reomvove() specified # remove works as a search algorithm\n",
    "a =[0,10,20,20,20]\n",
    "a.remove (20)\n",
    "print(a)"
   ]
  },
  {
   "cell_type": "code",
   "execution_count": null,
   "id": "4f0a3d35",
   "metadata": {},
   "outputs": [
    {
     "name": "stdout",
     "output_type": "stream",
     "text": [
      "200\n",
      "[100, 200, 300]\n"
     ]
    }
   ],
   "source": [
    "# concept of indexing and slicing in list\n",
    "lst = [10,20,30,[100,200,300]]\n",
    "print (lst[3][1])\n"
   ]
  },
  {
   "cell_type": "code",
   "execution_count": 2,
   "id": "719d257d",
   "metadata": {},
   "outputs": [
    {
     "ename": "IndexError",
     "evalue": "list index out of range",
     "output_type": "error",
     "traceback": [
      "\u001b[1;31m---------------------------------------------------------------------------\u001b[0m",
      "\u001b[1;31mIndexError\u001b[0m                                Traceback (most recent call last)",
      "Cell \u001b[1;32mIn[2], line 2\u001b[0m\n\u001b[0;32m      1\u001b[0m lst \u001b[38;5;241m=\u001b[39m [\u001b[38;5;241m1\u001b[39m,\u001b[38;5;241m2\u001b[39m,[\u001b[38;5;241m3\u001b[39m,[\u001b[38;5;241m4\u001b[39m,[\u001b[38;5;241m5\u001b[39m,\u001b[38;5;241m6\u001b[39m,\u001b[38;5;241m7\u001b[39m,\u001b[38;5;241m8\u001b[39m,[\u001b[38;5;241m8\u001b[39m],\u001b[38;5;241m10\u001b[39m],\u001b[38;5;241m10\u001b[39m],\u001b[38;5;241m11\u001b[39m],\u001b[38;5;241m12\u001b[39m]\n\u001b[1;32m----> 2\u001b[0m \u001b[38;5;28mprint\u001b[39m([\u001b[38;5;241m2\u001b[39m][\u001b[38;5;241m1\u001b[39m][\u001b[38;5;241m1\u001b[39m][\u001b[38;5;241m3\u001b[39m][\u001b[38;5;241m0\u001b[39m])\n",
      "\u001b[1;31mIndexError\u001b[0m: list index out of range"
     ]
    }
   ],
   "source": [
    "lst = [1,2,[3,[4,[5,6,7,8,[8],10],10],11],12]\n",
    "print([2][1][1][3][0])"
   ]
  },
  {
   "cell_type": "code",
   "execution_count": null,
   "id": "5b861e16",
   "metadata": {},
   "outputs": [],
   "source": [
    "d = [10,20,30,[40,[50,[600,700,800,[900],1,2],3],4],5]\n",
    "print(d)\n",
    "# answer: 900"
   ]
  },
  {
   "cell_type": "code",
   "execution_count": null,
   "id": "bcaf3601",
   "metadata": {},
   "outputs": [],
   "source": [
    "# reverse function\n",
    "a = [100,200,300,400,500,600]\n",
    "a,reverse()\n",
    "print(a)"
   ]
  },
  {
   "cell_type": "code",
   "execution_count": null,
   "id": "57540305",
   "metadata": {},
   "outputs": [],
   "source": [
    "e = [10,20,30,[40,50,60,(1,2,(3,4,(5,6,7,8,9,10)11,)12),13,]]]\n",
    "# answer 6,7,8,9"
   ]
  },
  {
   "cell_type": "code",
   "execution_count": null,
   "id": "3999c6f2",
   "metadata": {},
   "outputs": [],
   "source": [
    "# reversing a list ; alternative method \n",
    "# start: stop: step\n",
    "a = [200,400,600,700]\n",
    "print(a[::-1])"
   ]
  },
  {
   "cell_type": "code",
   "execution_count": 2,
   "id": "33e3f8f7",
   "metadata": {},
   "outputs": [],
   "source": [
    "# tuple : data structure of python p\n",
    "# tuple is immutable and computably faster  \n",
    "# tuple is defined as ()\n",
    "tup = () # define tuple : tup()\n",
    "tup = (1,2,3,4,5,)\n",
    "tup = ('hi','bye','hwllo')\n",
    "tup = (True, False)\n",
    "tup = (1.2, 2.3,12.4)\n",
    "tup = (1,'helo',23.4,False)\n"
   ]
  },
  {
   "cell_type": "code",
   "execution_count": null,
   "id": "4b60a3f9",
   "metadata": {},
   "outputs": [],
   "source": [
    "tup = (100,200,(300,400,[500,600,700,800],1,2,3,),4,5)\n",
    "print(tup[2][2][1:3])\n"
   ]
  },
  {
   "cell_type": "code",
   "execution_count": 4,
   "id": "99408373",
   "metadata": {},
   "outputs": [
    {
     "name": "stdout",
     "output_type": "stream",
     "text": [
      "{'country': ['USA', 'india', 'uk'], 'gdp': [7, 9, 3]}\n"
     ]
    }
   ],
   "source": [
    "# dictionary is  a key value pair of python programming \n",
    "# dict is mutuabble (we cant change key but we can change value )\n",
    "#dict = {'key': value}\n",
    "d = {'country': ['USA','india','uk'],\n",
    "'gdp': [7,9,3]}\n",
    "print (d)"
   ]
  },
  {
   "cell_type": "code",
   "execution_count": 6,
   "id": "1fee37ed",
   "metadata": {},
   "outputs": [
    {
     "data": {
      "text/plain": [
       "3"
      ]
     },
     "execution_count": 6,
     "metadata": {},
     "output_type": "execute_result"
    }
   ],
   "source": [
    "# using concept of indexing \n",
    "d['country'] [1]\n",
    "d['gdp'][2]"
   ]
  },
  {
   "cell_type": "code",
   "execution_count": 7,
   "id": "ad41cb2d",
   "metadata": {},
   "outputs": [
    {
     "data": {
      "text/plain": [
       "[7, 9]"
      ]
     },
     "execution_count": 7,
     "metadata": {},
     "output_type": "execute_result"
    }
   ],
   "source": [
    "#using the concept function\n",
    "d['gdp'][:2]"
   ]
  },
  {
   "cell_type": "code",
   "execution_count": null,
   "id": "7f41d2a8",
   "metadata": {},
   "outputs": [],
   "source": [
    "d.clear()"
   ]
  },
  {
   "cell_type": "code",
   "execution_count": null,
   "id": "b2357b19",
   "metadata": {},
   "outputs": [],
   "source": [
    "d.keys()"
   ]
  },
  {
   "cell_type": "code",
   "execution_count": null,
   "id": "b18371cf",
   "metadata": {},
   "outputs": [],
   "source": [
    "d.items()"
   ]
  }
 ],
 "metadata": {
  "kernelspec": {
   "display_name": "base",
   "language": "python",
   "name": "python3"
  },
  "language_info": {
   "codemirror_mode": {
    "name": "ipython",
    "version": 3
   },
   "file_extension": ".py",
   "mimetype": "text/x-python",
   "name": "python",
   "nbconvert_exporter": "python",
   "pygments_lexer": "ipython3",
   "version": "3.12.7"
  }
 },
 "nbformat": 4,
 "nbformat_minor": 5
}
