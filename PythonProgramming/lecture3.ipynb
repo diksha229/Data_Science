{
 "cells": [
  {
   "cell_type": "code",
   "execution_count": null,
   "id": "02e29591",
   "metadata": {},
   "outputs": [
    {
     "name": "stdout",
     "output_type": "stream",
     "text": [
      "<class 'list'>\n",
      "[1]\n",
      "[1, 2]\n"
     ]
    }
   ],
   "source": [
    "# list is the collection of differnt  data type in python arranged in squential manner.\n",
    "\n",
    "# list is a data structure of python programming and it is imutuable in nature.\n",
    "\n",
    "#if any function defined inside a class then such function is called 'method'\n",
    "\n",
    "# append always add in last \n",
    "lst = [] # blank list\n",
    "print(type(lst))\n",
    "\n",
    "lst.append (1) #function : method \n",
    "print(lst)\n",
    "lst.append(2)\n",
    "print(lst)"
   ]
  },
  {
   "cell_type": "code",
   "execution_count": 10,
   "id": "55626ade",
   "metadata": {},
   "outputs": [],
   "source": [
    "# clear() function will clear all the datatype mentioned inside a list \n",
    "lst.clear()\n"
   ]
  },
  {
   "cell_type": "code",
   "execution_count": null,
   "id": "21408a6f",
   "metadata": {},
   "outputs": [],
   "source": [
    "# insert() insert the values at specific index\n",
    "lst.insert(1,10) "
   ]
  },
  {
   "cell_type": "code",
   "execution_count": null,
   "id": "135cf7cd",
   "metadata": {},
   "outputs": [],
   "source": [
    "# append()function will add the value at the last index of list\n",
    "lst.append(20)"
   ]
  },
  {
   "cell_type": "code",
   "execution_count": null,
   "id": "2408fb00",
   "metadata": {},
   "outputs": [
    {
     "data": {
      "text/plain": [
       "[10, 20]"
      ]
     },
     "execution_count": 14,
     "metadata": {},
     "output_type": "execute_result"
    }
   ],
   "source": [
    "lst\n",
    "# we can write this also to print variable "
   ]
  },
  {
   "cell_type": "code",
   "execution_count": null,
   "id": "b31f9f81",
   "metadata": {},
   "outputs": [
    {
     "data": {
      "text/plain": [
       "30"
      ]
     },
     "execution_count": 15,
     "metadata": {},
     "output_type": "execute_result"
    }
   ],
   "source": [
    "# we cant do aggregarte  function so we have to use numpy\n",
    "import numpy as np\n",
    "a = np.array(lst)\n",
    "a.sum()"
   ]
  },
  {
   "cell_type": "code",
   "execution_count": null,
   "id": "5eb539da",
   "metadata": {},
   "outputs": [
    {
     "data": {
      "text/plain": [
       "1"
      ]
     },
     "execution_count": 16,
     "metadata": {},
     "output_type": "execute_result"
    }
   ],
   "source": [
    "# COUNT() will count the specific value which is appearing how many times.\n",
    "lst.count(20)\n"
   ]
  },
  {
   "cell_type": "code",
   "execution_count": null,
   "id": "18e5ab2b",
   "metadata": {},
   "outputs": [
    {
     "data": {
      "text/plain": [
       "1"
      ]
     },
     "execution_count": 17,
     "metadata": {},
     "output_type": "execute_result"
    }
   ],
   "source": [
    "# searching alogorithm (DSA)\n",
    "lst.index(20)"
   ]
  },
  {
   "cell_type": "code",
   "execution_count": null,
   "id": "7dce36a4",
   "metadata": {},
   "outputs": [
    {
     "name": "stdout",
     "output_type": "stream",
     "text": [
      "[10, 20, 30, 40, 60, 100]\n"
     ]
    }
   ],
   "source": [
    "#sorting algorithm (asc)\n",
    "m =[100,20,10,30,40,60]\n",
    "m.sort()\n",
    "print(m)"
   ]
  },
  {
   "cell_type": "code",
   "execution_count": null,
   "id": "604f0e08",
   "metadata": {},
   "outputs": [],
   "source": [
    "# sort (desc)\n",
    "m =[100,20,10,30,40,60]\n",
    "m.sort(reverse=True)"
   ]
  },
  {
   "cell_type": "code",
   "execution_count": null,
   "id": "0780e91a",
   "metadata": {},
   "outputs": [
    {
     "data": {
      "text/plain": [
       "[10, 20, 30, 40, 60, 100]"
      ]
     },
     "execution_count": 25,
     "metadata": {},
     "output_type": "execute_result"
    }
   ],
   "source": [
    "# copy() a function it defined in variable instance  \n",
    "\n",
    "n= m.copy()\n",
    "n"
   ]
  },
  {
   "cell_type": "code",
   "execution_count": null,
   "id": "ce72b664",
   "metadata": {},
   "outputs": [
    {
     "data": {
      "text/plain": [
       "[10, 20, 30, 40, 60, 100, 20, 30, 40, 50]"
      ]
     },
     "execution_count": 26,
     "metadata": {},
     "output_type": "execute_result"
    }
   ],
   "source": [
    "# extend the specific values on the last index in the list \n",
    "n.extend([20,30,40,50])\n",
    "print(n)\n"
   ]
  },
  {
   "cell_type": "code",
   "execution_count": null,
   "id": "074ec5a9",
   "metadata": {},
   "outputs": [
    {
     "data": {
      "text/plain": [
       "100"
      ]
     },
     "execution_count": 27,
     "metadata": {},
     "output_type": "execute_result"
    }
   ],
   "source": [
    "# pop() will remove the last index value present inside a list\n",
    "m.pop()"
   ]
  },
  {
   "cell_type": "code",
   "execution_count": null,
   "id": "a5dc9ca6",
   "metadata": {},
   "outputs": [
    {
     "name": "stdout",
     "output_type": "stream",
     "text": [
      "[0, 10, 20, 20]\n"
     ]
    }
   ],
   "source": [
    "# remove() will remove the specific value  # remove works as a search algorithm also.\n",
    "a =[0,10,20,20,20]\n",
    "a.remove (20)\n",
    "print(a)"
   ]
  },
  {
   "cell_type": "code",
   "execution_count": 3,
   "id": "4f0a3d35",
   "metadata": {},
   "outputs": [
    {
     "name": "stdout",
     "output_type": "stream",
     "text": [
      "200\n"
     ]
    }
   ],
   "source": [
    "# concept of indexing and slicing in list\n",
    "lst = [10,20,30,[100,200,300]]\n",
    "print (lst[3][1])\n"
   ]
  },
  {
   "cell_type": "code",
   "execution_count": 6,
   "id": "719d257d",
   "metadata": {},
   "outputs": [
    {
     "name": "stdout",
     "output_type": "stream",
     "text": [
      "8\n"
     ]
    }
   ],
   "source": [
    "# answer: find 800\n",
    "dik = [1,2,[3,[4,[5,6,7,8,[8],10],10],11],12]\n",
    "print(dik[2][1][1][4][0])"
   ]
  },
  {
   "cell_type": "code",
   "execution_count": 12,
   "id": "5b861e16",
   "metadata": {},
   "outputs": [
    {
     "name": "stdout",
     "output_type": "stream",
     "text": [
      "900\n"
     ]
    }
   ],
   "source": [
    "d = [10,20,30,[40,[50,[600,700,800,[900],1,2],3],4],5]\n",
    "print(d[3][1][1][3][0])\n",
    "# answer: 900"
   ]
  },
  {
   "cell_type": "code",
   "execution_count": 13,
   "id": "bcaf3601",
   "metadata": {},
   "outputs": [
    {
     "name": "stdout",
     "output_type": "stream",
     "text": [
      "[600, 500, 400, 300, 200, 100]\n"
     ]
    }
   ],
   "source": [
    "# reverse function\n",
    "a = [100,200,300,400,500,600]\n",
    "a.reverse()\n",
    "print(a)"
   ]
  },
  {
   "cell_type": "code",
   "execution_count": 18,
   "id": "57540305",
   "metadata": {},
   "outputs": [
    {
     "name": "stdout",
     "output_type": "stream",
     "text": [
      "(6, 7, 8, 9)\n"
     ]
    }
   ],
   "source": [
    "# answer 6,7,8,9\n",
    "e = [10,20,30,[40,50,60,(1,2,(3,4,(5,6,7,8,9,10),11,),12),13,]]\n",
    "print(e[3][3][2][2][1:5])\n"
   ]
  },
  {
   "cell_type": "code",
   "execution_count": null,
   "id": "3999c6f2",
   "metadata": {},
   "outputs": [],
   "source": [
    "# reversing a list ; alternative method \n",
    "# start: stop: step\n",
    "a = [200,400,600,700]\n",
    "print(a[::-1])"
   ]
  },
  {
   "cell_type": "code",
   "execution_count": null,
   "id": "33e3f8f7",
   "metadata": {},
   "outputs": [],
   "source": [
    "''' tuple is a data structrue of python programming and tuple is immutuable in nature meanwhile it is computably \n",
    " faster than list.'''\n",
    " \n",
    "# tuple is defined as ()\n",
    "\n",
    "tup = () # define tuple : tup()\n",
    "tup = (1,2,3,4,5,)\n",
    "tup = ('hi','bye','hwllo')\n",
    "tup = (True, False)\n",
    "tup = (1.2, 2.3,12.4)\n",
    "tup = (1,'helo',23.4,False)\n"
   ]
  },
  {
   "cell_type": "code",
   "execution_count": 19,
   "id": "4b60a3f9",
   "metadata": {},
   "outputs": [
    {
     "name": "stdout",
     "output_type": "stream",
     "text": [
      "[500, 600, 700]\n"
     ]
    }
   ],
   "source": [
    "# answer: find (500,600,700)\n",
    "tup = (100,200,(300,400,[500,600,700,800],1,2,3,),4,5)\n",
    "print(tup[2][2][0:3])\n"
   ]
  },
  {
   "cell_type": "code",
   "execution_count": null,
   "id": "1cff9a30",
   "metadata": {},
   "outputs": [],
   "source": [
    "# meaning :constructive and instances \n"
   ]
  },
  {
   "cell_type": "code",
   "execution_count": 4,
   "id": "5c261982",
   "metadata": {},
   "outputs": [],
   "source": [
    "tup =(10,20,20,30,2.121,'hello','world')\n"
   ]
  },
  {
   "cell_type": "code",
   "execution_count": 5,
   "id": "dde906ab",
   "metadata": {},
   "outputs": [
    {
     "data": {
      "text/plain": [
       "2"
      ]
     },
     "execution_count": 5,
     "metadata": {},
     "output_type": "execute_result"
    }
   ],
   "source": [
    "tup.count(20)"
   ]
  },
  {
   "cell_type": "code",
   "execution_count": 6,
   "id": "2556bbff",
   "metadata": {},
   "outputs": [
    {
     "data": {
      "text/plain": [
       "3"
      ]
     },
     "execution_count": 6,
     "metadata": {},
     "output_type": "execute_result"
    }
   ],
   "source": [
    "tup.index(30)"
   ]
  },
  {
   "cell_type": "code",
   "execution_count": 11,
   "id": "4fb640b9",
   "metadata": {},
   "outputs": [
    {
     "name": "stdout",
     "output_type": "stream",
     "text": [
      "hii\n"
     ]
    }
   ],
   "source": [
    "# CONCEPT of indexing and scling in tuple\n",
    "tup =(10,20,20,30,(2.121,[1,30,'hii'],'hello'),'world')\n",
    "print(tup[4][1][2])\n",
    "\n"
   ]
  },
  {
   "cell_type": "code",
   "execution_count": null,
   "id": "93b76bc3",
   "metadata": {},
   "outputs": [],
   "source": [
    "# concat is not mutuable in tuple\n",
    "# in tuple we can't multiply but we can multiply with float "
   ]
  },
  {
   "cell_type": "code",
   "execution_count": null,
   "id": "60f0360e",
   "metadata": {},
   "outputs": [],
   "source": [
    "tup1 = (1,2,3,4,5)\n",
    "tup2 = (6,7,8,9)\n",
    "print(tup1+tup2)"
   ]
  }
 ],
 "metadata": {
  "kernelspec": {
   "display_name": "base",
   "language": "python",
   "name": "python3"
  },
  "language_info": {
   "codemirror_mode": {
    "name": "ipython",
    "version": 3
   },
   "file_extension": ".py",
   "mimetype": "text/x-python",
   "name": "python",
   "nbconvert_exporter": "python",
   "pygments_lexer": "ipython3",
   "version": "3.12.7"
  }
 },
 "nbformat": 4,
 "nbformat_minor": 5
}
