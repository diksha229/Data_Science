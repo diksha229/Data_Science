{
 "cells": [
  {
   "cell_type": "code",
   "execution_count": 1,
   "id": "02e29591",
   "metadata": {},
   "outputs": [
    {
     "name": "stdout",
     "output_type": "stream",
     "text": [
      "<class 'list'>\n",
      "[1]\n",
      "[1, 2]\n"
     ]
    }
   ],
   "source": [
    "# list is the collection of differnt type of data type or all types in python \n",
    "#list is the data structure of python (mutalble in nature)\n",
    "\n",
    "lst = [] # blank list\n",
    "print(type(lst))\n",
    "lst.append (1) #function : method \n",
    "print(lst)\n",
    "lst.append(2)\n",
    "print(lst)"
   ]
  }
 ],
 "metadata": {
  "kernelspec": {
   "display_name": "base",
   "language": "python",
   "name": "python3"
  },
  "language_info": {
   "codemirror_mode": {
    "name": "ipython",
    "version": 3
   },
   "file_extension": ".py",
   "mimetype": "text/x-python",
   "name": "python",
   "nbconvert_exporter": "python",
   "pygments_lexer": "ipython3",
   "version": "3.12.7"
  }
 },
 "nbformat": 4,
 "nbformat_minor": 5
}
