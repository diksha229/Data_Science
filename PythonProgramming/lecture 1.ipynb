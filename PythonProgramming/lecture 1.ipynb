{
 "cells": [
  {
   "cell_type": "markdown",
   "id": "8c315fb9",
   "metadata": {},
   "source": [
    "## Introduction "
   ]
  },
  {
   "cell_type": "code",
   "execution_count": null,
   "id": "4c1c7dc3",
   "metadata": {},
   "outputs": [
    {
     "data": {
      "text/plain": [
       "'num is variable\\ncomparison operator ==\\nstr = \"hello\"\\nboolean = True\\nboolean1 = False\\nwhat are the different types of data types\\n\\n\\n\\n\\n'"
      ]
     },
     "execution_count": 1,
     "metadata": {},
     "output_type": "execute_result"
    }
   ],
   "source": [
    "# data types used in python programming \n",
    "''' \n",
    "1.Int: integer\n",
    "2.float: decimal values\n",
    "3.string: text information\n",
    "4. boolean: true or false \n",
    "'''\n",
    "# data type defination\n",
    "# = : assignment operator\n",
    "num = 100\n",
    "'''num is variable\n",
    "comparison operator ==\n",
    "str = \"hello\"\n",
    "boolean = True\n",
    "boolean1 = False\n",
    "what are the different types of data types\n",
    "print() is a function \n",
    "#number becomes string if we put quotes \"num\" it will print as it is \n",
    "@ int + string = error \n",
    "@ srting + string = concat \n",
    "@ string * int = the values will be multiply \n",
    "@ string + int = will gives the \n",
    "\n",
    "'''\n",
    "\n",
    "\n",
    "\n"
   ]
  },
  {
   "cell_type": "code",
   "execution_count": null,
   "id": "9c3c3583",
   "metadata": {},
   "outputs": [
    {
     "name": "stdout",
     "output_type": "stream",
     "text": [
      "enter the first number :enter the second number:\n"
     ]
    }
   ],
   "source": [
    "# input function\n",
    "num1 = input(\"enter the first number :\")\n",
    "num2 = input(\"enter the second number:\")\n",
    "print (num1 + num2)\n",
    "# whatver values you will put in input func it will give the string and concat\n"
   ]
  },
  {
   "cell_type": "code",
   "execution_count": 4,
   "id": "8da516ba",
   "metadata": {},
   "outputs": [
    {
     "name": "stdout",
     "output_type": "stream",
     "text": [
      "12345678\n"
     ]
    }
   ],
   "source": [
    "a= \"1234\"\n",
    "b = \"5678\"\n",
    "c = 10000\n",
    "print(a+b)\n"
   ]
  },
  {
   "cell_type": "code",
   "execution_count": null,
   "id": "f4dcc7e6",
   "metadata": {},
   "outputs": [
    {
     "name": "stdout",
     "output_type": "stream",
     "text": [
      "300\n"
     ]
    }
   ],
   "source": [
    "# input function\n",
    "# use type casting string to integer \n",
    "# float can accept int and float as well but int can't be accept float.\n",
    "num1 = int(input(\"enter the first number :\"))\n",
    "num2 =int (input(\"enter the second number:\"))\n",
    "print (num1 + num2)"
   ]
  },
  {
   "cell_type": "code",
   "execution_count": 10,
   "id": "9177fb82",
   "metadata": {},
   "outputs": [
    {
     "name": "stdout",
     "output_type": "stream",
     "text": [
      "the entered name of the person is diksha  having age is 23.0\n"
     ]
    }
   ],
   "source": [
    "# f string method\n",
    "name = input(\"enter the name:\")\n",
    "age = float(input(\"enter the age in years:\"))\n",
    "\n",
    "print (f\"the entered name of the person is {name} having age is {age}\")"
   ]
  },
  {
   "cell_type": "code",
   "execution_count": null,
   "id": "9771b7eb",
   "metadata": {},
   "outputs": [],
   "source": []
  },
  {
   "cell_type": "markdown",
   "id": "3e1d4b0d",
   "metadata": {},
   "source": []
  }
 ],
 "metadata": {
  "kernelspec": {
   "display_name": "base",
   "language": "python",
   "name": "python3"
  },
  "language_info": {
   "codemirror_mode": {
    "name": "ipython",
    "version": 3
   },
   "file_extension": ".py",
   "mimetype": "text/x-python",
   "name": "python",
   "nbconvert_exporter": "python",
   "pygments_lexer": "ipython3",
   "version": "3.12.7"
  }
 },
 "nbformat": 4,
 "nbformat_minor": 5
}
