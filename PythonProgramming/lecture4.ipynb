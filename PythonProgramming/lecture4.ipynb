{
 "cells": [
  {
   "cell_type": "code",
   "execution_count": 1,
   "id": "ebc4c448",
   "metadata": {},
   "outputs": [
    {
     "name": "stdout",
     "output_type": "stream",
     "text": [
      "{'country': ['USA', 'india', 'uk'], 'gdp': [7, 9, 3]}\n"
     ]
    }
   ],
   "source": [
    "# dictionary is  a key value pair of python programming \n",
    "\n",
    "# dict is mutuabble (we cant change key but we can change values \n",
    "\n",
    "#dict = {'key': value}\n",
    "\n",
    "d = {'country': ['USA','india','uk'],\n",
    "'gdp': [7,9,3]}\n",
    "print (d)"
   ]
  },
  {
   "cell_type": "code",
   "execution_count": null,
   "id": "8b4eb632",
   "metadata": {},
   "outputs": [],
   "source": [
    "# using concept of indexing \n",
    "d['country'] [1]\n",
    "d['gdp'][2]"
   ]
  },
  {
   "cell_type": "code",
   "execution_count": null,
   "id": "eecf95bf",
   "metadata": {},
   "outputs": [],
   "source": [
    "#using the concept od slicing  function\n",
    "d['gdp'][:2]"
   ]
  },
  {
   "cell_type": "code",
   "execution_count": null,
   "id": "2f4dd5b5",
   "metadata": {},
   "outputs": [
    {
     "data": {
      "text/plain": [
       "dict_items([('country', ['USA', 'india', 'uk']), ('gdp', [7, 9, 3])])"
      ]
     },
     "execution_count": 3,
     "metadata": {},
     "output_type": "execute_result"
    }
   ],
   "source": [
    "#1. clears the values in the dict \n",
    "d.clear() \n",
    "\n",
    "#2. search the key under dict \n",
    "d.keys()\n",
    "\n",
    "#3. search the values under dict\n",
    "d.items()\n"
   ]
  },
  {
   "cell_type": "code",
   "execution_count": null,
   "id": "2cead108",
   "metadata": {},
   "outputs": [],
   "source": []
  }
 ],
 "metadata": {
  "kernelspec": {
   "display_name": "base",
   "language": "python",
   "name": "python3"
  },
  "language_info": {
   "codemirror_mode": {
    "name": "ipython",
    "version": 3
   },
   "file_extension": ".py",
   "mimetype": "text/x-python",
   "name": "python",
   "nbconvert_exporter": "python",
   "pygments_lexer": "ipython3",
   "version": "3.12.7"
  }
 },
 "nbformat": 4,
 "nbformat_minor": 5
}
