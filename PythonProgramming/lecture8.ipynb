{
 "cells": [
  {
   "cell_type": "code",
   "execution_count": null,
   "id": "e436849e",
   "metadata": {},
   "outputs": [
    {
     "name": "stdout",
     "output_type": "stream",
     "text": [
      "25\n"
     ]
    }
   ],
   "source": [
    "# lambda is a one line function and it is customisable \n",
    "a = lambda x : x**2\n",
    "print(a(5))"
   ]
  },
  {
   "cell_type": "code",
   "execution_count": 19,
   "id": "4150a8ea",
   "metadata": {},
   "outputs": [
    {
     "name": "stdout",
     "output_type": "stream",
     "text": [
      "5.0\n"
     ]
    }
   ],
   "source": [
    "# ask the user\n",
    "num1 = float(input(\"enetr the first number\"))\n",
    "num2 = float(input(\"enter the second number\"))\n",
    "\n",
    "# lambda function \n",
    "add = lambda num1,num2 : (num1 + num2)\n",
    "sub = lambda num1,num2 : (num1 - num2)\n",
    "mul = lambda num1 , num2 : (num1* num2 )\n",
    "div = lambda num1 , num2 : (num1 / num2)\n",
    "\n",
    "# function defination\n",
    "def calculator():\n",
    "    global num1,num2\n",
    "    choice = input(\"enter the choice \")\n",
    "    if choice == '1':\n",
    "        ans = add(num1,num2)\n",
    "        print(ans)\n",
    "    elif choice == '2':\n",
    "        ans = sub(num1,num2)\n",
    "        print(ans)\n",
    "    elif choice == '3':\n",
    "        ans = mul(num1,num2)\n",
    "        print(ans)\n",
    "    elif choice == '4':\n",
    "        div(num1,num2)\n",
    "        print(ans)\n",
    "    else:\n",
    "        print('enter the valid input choice')\n",
    "\n",
    "calculator() # calling function\n",
    "    "
   ]
  },
  {
   "cell_type": "code",
   "execution_count": 27,
   "id": "4ccc597e",
   "metadata": {},
   "outputs": [
    {
     "data": {
      "text/plain": [
       "(0, 4, 16, 36, 64)"
      ]
     },
     "execution_count": 27,
     "metadata": {},
     "output_type": "execute_result"
    }
   ],
   "source": [
    "# map() function typecasting the data structure\n",
    "square = list(map(lambda x : x**2 , range(0,10)))\n",
    "square\n",
    "\n",
    "# range (start:stop:step)\n",
    "sq = tuple(map(lambda x: x**2, range(0,10,2)))\n",
    "sq\n"
   ]
  },
  {
   "cell_type": "code",
   "execution_count": null,
   "id": "5aa5ec04",
   "metadata": {},
   "outputs": [
    {
     "name": "stdout",
     "output_type": "stream",
     "text": [
      "[2, 4, 6]\n",
      "[0, 2, 4, 6, 8]\n"
     ]
    }
   ],
   "source": [
    "# filter (function , iterable)\n",
    "num = [1,2,3,4,5,6]\n",
    "even = list(filter(lambda x: x% 2 ==0, num))\n",
    "print(even)\n",
    "\n",
    "# using range function\n",
    "a = list(filter(lambda x: x%2 ==0, range(0,10)))\n",
    "print(a)"
   ]
  },
  {
   "cell_type": "code",
   "execution_count": null,
   "id": "54223e6e",
   "metadata": {},
   "outputs": [
    {
     "name": "stdout",
     "output_type": "stream",
     "text": [
      "20\n"
     ]
    }
   ],
   "source": [
    "'''\n",
    "step 1 : create a list using lambdas func as (1,10)\n",
    "step 2 : evaluate sum of all even numbers present in list\n",
    "step 3 : the above code must be written as function : sum()\n",
    "'''\n",
    "a = list(filter(lambda x: x%2 ==0, range(0,10)))\n",
    "print(a)\n",
    "# defination function\n",
    "def sum():\n",
    "    sum = 0\n",
    "    for i in range (0,10):\n",
    "        if i % 2 ==0:\n",
    "            sum = sum + i\n",
    "    print(sum)\n",
    "# function calling\n",
    "sum()\n",
    "\n",
    "    "
   ]
  }
 ],
 "metadata": {
  "kernelspec": {
   "display_name": "base",
   "language": "python",
   "name": "python3"
  },
  "language_info": {
   "codemirror_mode": {
    "name": "ipython",
    "version": 3
   },
   "file_extension": ".py",
   "mimetype": "text/x-python",
   "name": "python",
   "nbconvert_exporter": "python",
   "pygments_lexer": "ipython3",
   "version": "3.12.7"
  }
 },
 "nbformat": 4,
 "nbformat_minor": 5
}
