{
 "cells": [
  {
   "cell_type": "code",
   "execution_count": null,
   "id": "c48e411b",
   "metadata": {},
   "outputs": [
    {
     "name": "stdout",
     "output_type": "stream",
     "text": [
      "0\n",
      "1\n",
      "2\n",
      "3\n",
      "4\n",
      "5\n",
      "6\n",
      "7\n",
      "8\n",
      "9\n"
     ]
    }
   ],
   "source": [
    "# it will break the loop\n",
    "for i in range (0,10):\n",
    "    print(i)\n",
    "    break\n",
    "# pass continues\n"
   ]
  },
  {
   "cell_type": "code",
   "execution_count": 4,
   "id": "5091c6f6",
   "metadata": {},
   "outputs": [
    {
     "name": "stdout",
     "output_type": "stream",
     "text": [
      "0\n",
      "1\n",
      "2\n",
      "3\n",
      "4\n",
      "5\n",
      "6\n",
      "7\n",
      "8\n",
      "9\n"
     ]
    }
   ],
   "source": [
    "for i in range (0,10):\n",
    "    print(i)\n",
    "    pass"
   ]
  },
  {
   "cell_type": "code",
   "execution_count": 3,
   "id": "2b78622a",
   "metadata": {},
   "outputs": [
    {
     "name": "stdout",
     "output_type": "stream",
     "text": [
      "0\n",
      "1\n",
      "2\n",
      "3\n",
      "4\n",
      "5\n",
      "6\n",
      "7\n",
      "8\n",
      "9\n"
     ]
    }
   ],
   "source": [
    "for i in range (0,10):\n",
    "    print(i)\n",
    "    continue"
   ]
  },
  {
   "cell_type": "code",
   "execution_count": 5,
   "id": "d5cbcfb0",
   "metadata": {},
   "outputs": [
    {
     "name": "stdout",
     "output_type": "stream",
     "text": [
      "0\n",
      "1\n",
      "2\n",
      "3\n",
      "4\n",
      "1\n",
      "1\n",
      "2\n",
      "3\n",
      "4\n",
      "2\n",
      "1\n",
      "2\n",
      "3\n",
      "4\n",
      "3\n",
      "1\n",
      "2\n",
      "3\n",
      "4\n",
      "4\n",
      "1\n",
      "2\n",
      "3\n",
      "4\n",
      "5\n",
      "1\n",
      "2\n",
      "3\n",
      "4\n"
     ]
    }
   ],
   "source": [
    "for i in range(0,6):\n",
    "    pass\n",
    "    print(i)\n",
    "    for i in range (1,5):\n",
    "        print(i)\n",
    "        continue"
   ]
  },
  {
   "cell_type": "code",
   "execution_count": 6,
   "id": "4fdaf973",
   "metadata": {},
   "outputs": [
    {
     "name": "stdout",
     "output_type": "stream",
     "text": [
      "10\n"
     ]
    }
   ],
   "source": [
    "for i in range (10,15):\n",
    "    print(i)\n",
    "    break\n",
    "    for i in range(0,10,2):\n",
    "        print(i)\n",
    "        pass"
   ]
  },
  {
   "cell_type": "code",
   "execution_count": 7,
   "id": "4dbf46a8",
   "metadata": {},
   "outputs": [
    {
     "name": "stdout",
     "output_type": "stream",
     "text": [
      "10\n",
      "0\n",
      "11\n",
      "0\n",
      "12\n",
      "0\n",
      "13\n",
      "0\n",
      "14\n",
      "0\n"
     ]
    }
   ],
   "source": [
    "for i in range (10,15):\n",
    "    print(i)\n",
    "    pass\n",
    "    for i in range(0,10,2):\n",
    "        print(i)\n",
    "        break"
   ]
  },
  {
   "cell_type": "code",
   "execution_count": 8,
   "id": "9d812f7b",
   "metadata": {},
   "outputs": [
    {
     "name": "stdout",
     "output_type": "stream",
     "text": [
      "0\n",
      "2\n",
      "4\n",
      "6\n",
      "8\n"
     ]
    }
   ],
   "source": [
    "count = 0\n",
    "while i<10:\n",
    "    print(i)\n",
    "    i = i + 2"
   ]
  },
  {
   "cell_type": "code",
   "execution_count": null,
   "id": "78e5151a",
   "metadata": {},
   "outputs": [
    {
     "name": "stdout",
     "output_type": "stream",
     "text": [
      "the addtion of two numbers are 100 and 200 is 300\n"
     ]
    }
   ],
   "source": [
    "# function defination : diksha() : custom function \n",
    "def diksha():\n",
    "    num1 = 100 # local variable : attributes\n",
    "    num2 = 200\n",
    "\n",
    "    num3 = num1 + num2\n",
    "    print(f'the addtion of two numbers are {num1} and {num2} is {num3}')\n",
    "\n",
    "# function calling \n",
    "diksha()"
   ]
  },
  {
   "cell_type": "code",
   "execution_count": null,
   "id": "87c7ac8a",
   "metadata": {},
   "outputs": [
    {
     "name": "stdout",
     "output_type": "stream",
     "text": [
      "the addtion of two numbers are 100 and 1000 is 1100\n"
     ]
    }
   ],
   "source": [
    "# global variable\n",
    "num4 = 1000\n",
    "\n",
    "def diksha():\n",
    "    global num4\n",
    "    num1 = 100 # local variable : attributes\n",
    "    num2 = 200\n",
    "\n",
    "    num3 = num1 + num4\n",
    "    print(f'the addtion of two numbers are {num1} and {num4} is {num3}')\n",
    "\n",
    "# function calling \n",
    "diksha()\n"
   ]
  },
  {
   "cell_type": "code",
   "execution_count": null,
   "id": "30d41fbd",
   "metadata": {},
   "outputs": [
    {
     "name": "stdout",
     "output_type": "stream",
     "text": [
      "the addtion of two numbers are 100.0 and 1000 is 300.0\n"
     ]
    }
   ],
   "source": [
    "# define global variables num1 and num2\n",
    "num1 = float(input(\"enter the first number\"))\n",
    "num2 = float(input(\"enter the second number\"))\n",
    "\n",
    "# define sum function with arguments a & b \n",
    "def sum(a,b):\n",
    "    num3 =num1 + num2\n",
    "    print(f'the addtion of two numbers are {num1} and {num4} is {num3}')\n",
    "sum()\n"
   ]
  },
  {
   "cell_type": "code",
   "execution_count": null,
   "id": "c97ca94c",
   "metadata": {},
   "outputs": [],
   "source": [
    "'''\n",
    "ask the user to enter 1.2.3\n",
    "if user enter 1 the balance amount show 10k\n",
    "if user enter 2 withdraw amount should appear\n",
    "if user enter 3 deposit amount should appear\n",
    "'''\n"
   ]
  },
  {
   "cell_type": "code",
   "execution_count": 22,
   "id": "cb48ebb8",
   "metadata": {},
   "outputs": [],
   "source": [
    "balance = 10000\n",
    "def bank():\n",
    "    choice = input(\"enter the choice\")\n",
    "    if choice == \"1\":\n",
    "        print(\"your account balance is\" ,balance)\n",
    "\n",
    "    choice = float(input(\"enter the choice\"))\n",
    "    if choice == 2:\n",
    "        withdraw = balance - choice\n",
    "        print(\"your withdraw amount is\",withdraw )\n",
    "\n",
    "    \n",
    "\n",
    "   \n",
    "\n",
    "     \n",
    "\n",
    "\n",
    " \n",
    "bank()\n",
    "\n"
   ]
  },
  {
   "cell_type": "code",
   "execution_count": 23,
   "id": "ab635194",
   "metadata": {},
   "outputs": [
    {
     "ename": "TypeError",
     "evalue": "'>' not supported between instances of 'str' and 'int'",
     "output_type": "error",
     "traceback": [
      "\u001b[1;31m---------------------------------------------------------------------------\u001b[0m",
      "\u001b[1;31mTypeError\u001b[0m                                 Traceback (most recent call last)",
      "Cell \u001b[1;32mIn[23], line 4\u001b[0m\n\u001b[0;32m      2\u001b[0m balance \u001b[38;5;241m=\u001b[39m \u001b[38;5;241m10000\u001b[39m\n\u001b[0;32m      3\u001b[0m withdraw \u001b[38;5;241m=\u001b[39m \u001b[38;5;28minput\u001b[39m(\u001b[38;5;124m'\u001b[39m\u001b[38;5;124menter the withdraw amount\u001b[39m\u001b[38;5;124m'\u001b[39m)\n\u001b[1;32m----> 4\u001b[0m \u001b[38;5;28;01mif\u001b[39;00m withdraw \u001b[38;5;241m>\u001b[39m threeshold:\n\u001b[0;32m      5\u001b[0m     \u001b[38;5;28mprint\u001b[39m(\u001b[38;5;124m\"\u001b[39m\u001b[38;5;124mwe can\u001b[39m\u001b[38;5;124m'\u001b[39m\u001b[38;5;124mt withdraw your amount\u001b[39m\u001b[38;5;124m\"\u001b[39m)\n\u001b[0;32m      6\u001b[0m     withdraw \u001b[38;5;241m-\u001b[39m\u001b[38;5;241m=\u001b[39m balance \n",
      "\u001b[1;31mTypeError\u001b[0m: '>' not supported between instances of 'str' and 'int'"
     ]
    }
   ],
   "source": [
    "threeshold = 2000\n",
    "balance = 10000\n",
    "withdraw = input('enter the withdraw amount')\n",
    "if withdraw > threeshold:\n",
    "    print(\"we can't withdraw your amount\")\n",
    "    withdraw -= balance \n",
    "else:\n",
    "    print ('your withdrw amount is' ,withdraw)\n"
   ]
  },
  {
   "cell_type": "code",
   "execution_count": null,
   "id": "692de87e",
   "metadata": {},
   "outputs": [],
   "source": [
    "#function() makes your code reusable\n",
    "  "
   ]
  },
  {
   "cell_type": "code",
   "execution_count": 21,
   "id": "f0d35405",
   "metadata": {},
   "outputs": [
    {
     "ename": "TypeError",
     "evalue": "unsupported operand type(s) for -: 'int' and 'str'",
     "output_type": "error",
     "traceback": [
      "\u001b[1;31m---------------------------------------------------------------------------\u001b[0m",
      "\u001b[1;31mTypeError\u001b[0m                                 Traceback (most recent call last)",
      "Cell \u001b[1;32mIn[21], line 3\u001b[0m\n\u001b[0;32m      1\u001b[0m choice \u001b[38;5;241m=\u001b[39m \u001b[38;5;28minput\u001b[39m(\u001b[38;5;124m\"\u001b[39m\u001b[38;5;124menter the choice\u001b[39m\u001b[38;5;124m\"\u001b[39m)\n\u001b[0;32m      2\u001b[0m \u001b[38;5;28;01mif\u001b[39;00m choice \u001b[38;5;241m==\u001b[39m \u001b[38;5;124m\"\u001b[39m\u001b[38;5;124m2\u001b[39m\u001b[38;5;124m\"\u001b[39m:\n\u001b[1;32m----> 3\u001b[0m     \u001b[38;5;28mprint\u001b[39m(\u001b[38;5;124mf\u001b[39m\u001b[38;5;124m\"\u001b[39m\u001b[38;5;124myour withdraw amount is\u001b[39m\u001b[38;5;124m\"\u001b[39m,{balance \u001b[38;5;241m-\u001b[39m choice}  )\n",
      "\u001b[1;31mTypeError\u001b[0m: unsupported operand type(s) for -: 'int' and 'str'"
     ]
    }
   ],
   "source": [
    "choice = input(\"enter the choice\")\n",
    "if choice == \"2\":\n",
    "    print(f\"your withdraw amount is\",{balance - choice}  )"
   ]
  },
  {
   "cell_type": "code",
   "execution_count": null,
   "id": "800ca61e",
   "metadata": {},
   "outputs": [],
   "source": []
  }
 ],
 "metadata": {
  "kernelspec": {
   "display_name": "base",
   "language": "python",
   "name": "python3"
  },
  "language_info": {
   "codemirror_mode": {
    "name": "ipython",
    "version": 3
   },
   "file_extension": ".py",
   "mimetype": "text/x-python",
   "name": "python",
   "nbconvert_exporter": "python",
   "pygments_lexer": "ipython3",
   "version": "3.12.7"
  }
 },
 "nbformat": 4,
 "nbformat_minor": 5
}
