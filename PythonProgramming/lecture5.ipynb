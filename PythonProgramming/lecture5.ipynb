{
 "cells": [
  {
   "cell_type": "code",
   "execution_count": 3,
   "id": "23908188",
   "metadata": {},
   "outputs": [
    {
     "name": "stdout",
     "output_type": "stream",
     "text": [
      "0\n",
      "1\n",
      "2\n",
      "3\n",
      "4\n",
      "5\n",
      "6\n",
      "7\n",
      "8\n",
      "9\n",
      "10\n"
     ]
    }
   ],
   "source": [
    "# loop is cyclik in nature\n",
    "for i in range (0,11):\n",
    "  print(i)"
   ]
  },
  {
   "cell_type": "code",
   "execution_count": 4,
   "id": "b606d94c",
   "metadata": {},
   "outputs": [
    {
     "name": "stdout",
     "output_type": "stream",
     "text": [
      "0 1 2 3 4 5 6 7 8 9 "
     ]
    }
   ],
   "source": [
    "for i in range (0,10):\n",
    "    print(i,end = ' ')"
   ]
  },
  {
   "cell_type": "code",
   "execution_count": 1,
   "id": "523eda81",
   "metadata": {},
   "outputs": [
    {
     "name": "stdout",
     "output_type": "stream",
     "text": [
      "num is less tha 200\n"
     ]
    }
   ],
   "source": [
    "# if else logic\n",
    "num = 100\n",
    "if num <= 200:\n",
    "    print('num is less tha 200')\n",
    "else:\n",
    "    print('num is greater than 200')"
   ]
  },
  {
   "cell_type": "code",
   "execution_count": 9,
   "id": "50e6e16d",
   "metadata": {},
   "outputs": [
    {
     "name": "stdout",
     "output_type": "stream",
     "text": [
      "student is bright \n"
     ]
    }
   ],
   "source": [
    "# ask the user to enter the marks\n",
    "marks = float(input('enter the marks:'))\n",
    "if marks >= 60:\n",
    "    print(\"student is bright \")\n",
    "else:\n",
    "    print(\"student is weak\")\n",
    "    "
   ]
  },
  {
   "cell_type": "code",
   "execution_count": 17,
   "id": "b00dd7d4",
   "metadata": {},
   "outputs": [
    {
     "name": "stdout",
     "output_type": "stream",
     "text": [
      "bad student\n"
     ]
    }
   ],
   "source": [
    "marks = float(input('enter the marks:'))\n",
    "if marks >= 80:\n",
    "    print(\"bright student\")\n",
    "elif marks >60 and marks < 79:\n",
    "    print(\"good student\")\n",
    "elif marks >40 and marks <59:\n",
    "    print(\"average student\")\n",
    "else:\n",
    "    print(\"bad student\")"
   ]
  },
  {
   "cell_type": "code",
   "execution_count": null,
   "id": "7ad85319",
   "metadata": {},
   "outputs": [
    {
     "name": "stdout",
     "output_type": "stream",
     "text": [
      "it is palindrom\n"
     ]
    }
   ],
   "source": [
    "# check whether the string is palidrom\n",
    "\n",
    "str = input(\"enter the string :\")\n",
    "str1 = str[::-1]\n",
    "\n",
    "if str == str1:\n",
    "    print(\"it is palindrom\")\n",
    "else:\n",
    "    print('it is not palidrom')"
   ]
  },
  {
   "cell_type": "code",
   "execution_count": null,
   "id": "dbdbfc94",
   "metadata": {},
   "outputs": [],
   "source": [
    "#pedmas\n",
    "# division\n",
    "(100*2+(30/2))"
   ]
  },
  {
   "cell_type": "code",
   "execution_count": null,
   "id": "04bb0494",
   "metadata": {},
   "outputs": [],
   "source": [
    "# round value and give the int ouput\n",
    "(100*2+(30//2))"
   ]
  },
  {
   "cell_type": "code",
   "execution_count": null,
   "id": "715e037a",
   "metadata": {},
   "outputs": [],
   "source": [
    "# SQUARE ROOT\n",
    "# 20** 3"
   ]
  },
  {
   "cell_type": "code",
   "execution_count": 3,
   "id": "beee6318",
   "metadata": {},
   "outputs": [
    {
     "name": "stdout",
     "output_type": "stream",
     "text": [
      "hello diksha\n"
     ]
    }
   ],
   "source": [
    "name = \"diksha\"\n",
    "print(f\"hello {name}\")"
   ]
  },
  {
   "cell_type": "code",
   "execution_count": 18,
   "id": "d1835659",
   "metadata": {},
   "outputs": [
    {
     "name": "stdout",
     "output_type": "stream",
     "text": [
      "Hello\n",
      "Hello\n",
      "Hello\n"
     ]
    }
   ],
   "source": [
    "for i in range(3):\n",
    "    print(\"Hello\")"
   ]
  },
  {
   "cell_type": "code",
   "execution_count": null,
   "id": "7bc1cb32",
   "metadata": {},
   "outputs": [
    {
     "name": "stdout",
     "output_type": "stream",
     "text": [
      "\n",
      "\n",
      "*\n",
      "**\n",
      "***\n",
      "****\n",
      "*****\n",
      "******\n"
     ]
    }
   ],
   "source": [
    "''' \n",
    "*\n",
    "**\n",
    "***\n",
    "****\n",
    "***** '''\n",
    "for i in range(1,7):\n",
    "  print (i * \"*\")"
   ]
  },
  {
   "cell_type": "code",
   "execution_count": null,
   "id": "d6569da2",
   "metadata": {},
   "outputs": [
    {
     "data": {
      "text/plain": [
       "0"
      ]
     },
     "execution_count": 16,
     "metadata": {},
     "output_type": "execute_result"
    }
   ],
   "source": [
    "# moduleu operator : gives the  remainder\n",
    "100%2"
   ]
  },
  {
   "cell_type": "code",
   "execution_count": null,
   "id": "1857305b",
   "metadata": {},
   "outputs": [
    {
     "data": {
      "text/plain": [
       "333.3333333333333"
      ]
     },
     "execution_count": 17,
     "metadata": {},
     "output_type": "execute_result"
    }
   ],
   "source": [
    "# if the reminder is 0 it will be even no. \n",
    "1000/3\n"
   ]
  },
  {
   "cell_type": "code",
   "execution_count": 15,
   "id": "a10f524b",
   "metadata": {},
   "outputs": [
    {
     "data": {
      "text/plain": [
       "50.0"
      ]
     },
     "execution_count": 15,
     "metadata": {},
     "output_type": "execute_result"
    }
   ],
   "source": [
    "# / : answer will be in float \n",
    "100/2\n"
   ]
  },
  {
   "cell_type": "code",
   "execution_count": 14,
   "id": "e794af26",
   "metadata": {},
   "outputs": [
    {
     "data": {
      "text/plain": [
       "50"
      ]
     },
     "execution_count": 14,
     "metadata": {},
     "output_type": "execute_result"
    }
   ],
   "source": [
    "# // : answer will be in int \n",
    "100//2\n"
   ]
  },
  {
   "cell_type": "code",
   "execution_count": 18,
   "id": "956ca1b2",
   "metadata": {},
   "outputs": [
    {
     "name": "stdout",
     "output_type": "stream",
     "text": [
      "100\n",
      "2.0\n"
     ]
    }
   ],
   "source": [
    "print(10**2)\n",
    "print(4**0.5)"
   ]
  },
  {
   "cell_type": "code",
   "execution_count": 19,
   "id": "2436b902",
   "metadata": {},
   "outputs": [],
   "source": [
    "# modular coding bulit in function and custom function \n",
    "# FILES set.ty \n"
   ]
  },
  {
   "cell_type": "code",
   "execution_count": null,
   "id": "da676648",
   "metadata": {},
   "outputs": [
    {
     "name": "stdout",
     "output_type": "stream",
     "text": [
      "entered number is even\n"
     ]
    }
   ],
   "source": [
    "# step 1 : ask the user to enter the number\n",
    "# step 2 : check whether the number is not even \n",
    "a = float(input(\"enter the number:\"))\n",
    "if a % 2 == 0:\n",
    "    print('entered number is even')\n",
    "else:\n",
    "    print(\"entered numbers is odd\")"
   ]
  },
  {
   "cell_type": "code",
   "execution_count": null,
   "id": "015dce63",
   "metadata": {},
   "outputs": [
    {
     "name": "stdout",
     "output_type": "stream",
     "text": [
      "hii\n",
      "world\n",
      "python\n"
     ]
    }
   ],
   "source": [
    "a =[\"hii\",'world','python']\n",
    "for i in a:\n",
    "    print(i.lower())\n",
    "\n",
    " \n",
    "\n",
    "\n"
   ]
  }
 ],
 "metadata": {
  "kernelspec": {
   "display_name": "base",
   "language": "python",
   "name": "python3"
  },
  "language_info": {
   "codemirror_mode": {
    "name": "ipython",
    "version": 3
   },
   "file_extension": ".py",
   "mimetype": "text/x-python",
   "name": "python",
   "nbconvert_exporter": "python",
   "pygments_lexer": "ipython3",
   "version": "3.12.7"
  }
 },
 "nbformat": 4,
 "nbformat_minor": 5
}
